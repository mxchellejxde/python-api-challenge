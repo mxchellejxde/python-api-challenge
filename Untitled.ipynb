{
 "cells": [
  {
   "cell_type": "code",
   "execution_count": 26,
   "id": "88d2186a",
   "metadata": {},
   "outputs": [],
   "source": [
    "# Dependencies and Setup\n",
    "import matplotlib.pyplot as plt\n",
    "import pandas as pd\n",
    "import numpy as np\n",
    "import requests\n",
    "import time\n",
    "from scipy.stats import linregress\n",
    "import json\n",
    "\n",
    "# Impor the OpenWeatherMap API key\n",
    "from api_keys import weather_api_key\n",
    "\n",
    "# Import citipy to determine the cities based on latitude and longitude\n",
    "from citipy import citipy"
   ]
  },
  {
   "cell_type": "code",
   "execution_count": 27,
   "id": "c48a4988",
   "metadata": {},
   "outputs": [
    {
     "name": "stdout",
     "output_type": "stream",
     "text": [
      "Number of cities in the list: 582\n"
     ]
    }
   ],
   "source": [
    "# Empty list for holding the latitude and longitude combinations\n",
    "lat_lngs = []\n",
    "\n",
    "# Empty list for holding the cities names\n",
    "cities = []\n",
    "\n",
    "# Range of latitudes and longitudes\n",
    "lat_range = (-90, 90)\n",
    "lng_range = (-180, 180)\n",
    "\n",
    "# Create a set of random lat and lng combinations\n",
    "lats = np.random.uniform(lat_range[0], lat_range[1], size=1500)\n",
    "lngs = np.random.uniform(lng_range[0], lng_range[1], size=1500)\n",
    "lat_lngs = zip(lats, lngs)\n",
    "\n",
    "# Identify nearest city for each lat, lng combination\n",
    "for lat_lng in lat_lngs:\n",
    "    city = citipy.nearest_city(lat_lng[0], lat_lng[1]).city_name\n",
    "    \n",
    "    # If the city is unique, then add it to a our cities list\n",
    "    if city not in cities:\n",
    "        cities.append(city)\n",
    "\n",
    "# Print the city count to confirm sufficient count\n",
    "print(f\"Number of cities in the list: {len(cities)}\")"
   ]
  },
  {
   "cell_type": "code",
   "execution_count": 39,
   "id": "f5c62d5c",
   "metadata": {},
   "outputs": [
    {
     "name": "stdout",
     "output_type": "stream",
     "text": [
      "Beginning Data Retrieval     \n",
      "-----------------------------\n",
      "{\n",
      "   \"base\": \"stations\",\n",
      "   \"clouds\": {\n",
      "      \"all\": 75\n",
      "   },\n",
      "   \"cod\": 200,\n",
      "   \"coord\": {\n",
      "      \"lat\": 51.5085,\n",
      "      \"lon\": -0.1257\n",
      "   },\n",
      "   \"dt\": 1680299929,\n",
      "   \"id\": 2643743,\n",
      "   \"main\": {\n",
      "      \"feels_like\": 282.96,\n",
      "      \"humidity\": 94,\n",
      "      \"pressure\": 993,\n",
      "      \"temp\": 283.42,\n",
      "      \"temp_max\": 284.15,\n",
      "      \"temp_min\": 282.51\n",
      "   },\n",
      "   \"name\": \"London\",\n",
      "   \"sys\": {\n",
      "      \"country\": \"GB\",\n",
      "      \"id\": 2075535,\n",
      "      \"sunrise\": 1680241134,\n",
      "      \"sunset\": 1680287423,\n",
      "      \"type\": 2\n",
      "   },\n",
      "   \"timezone\": 3600,\n",
      "   \"visibility\": 7000,\n",
      "   \"weather\": [\n",
      "      {\n",
      "         \"description\": \"broken clouds\",\n",
      "         \"icon\": \"04n\",\n",
      "         \"id\": 803,\n",
      "         \"main\": \"Clouds\"\n",
      "      }\n",
      "   ],\n",
      "   \"wind\": {\n",
      "      \"deg\": 290,\n",
      "      \"speed\": 5.14\n",
      "   }\n",
      "}\n"
     ]
    }
   ],
   "source": [
    "# Set the API base URL\n",
    "url = f\"https://api.openweathermap.org/data/2.5/weather?q=\"\n",
    "\n",
    "# Define an empty list to fetch the weather data for each city\n",
    "city_data = []\n",
    "\n",
    "# Print to logger\n",
    "print(\"Beginning Data Retrieval     \")\n",
    "print(\"-----------------------------\")\n",
    "\n",
    "# Create counters\n",
    "record_count = 1\n",
    "set_count = 1\n",
    "\n",
    "\n",
    "city_url = f\"{url}London&appid={weather_api_key}\"\n",
    "    \n",
    "city_weather = requests.get(city_url).json()\n",
    "\n",
    "city_data = json.dumps(city_weather, indent=3, sort_keys=True)\n",
    "print(city_data)"
   ]
  },
  {
   "cell_type": "code",
   "execution_count": null,
   "id": "731d30cc",
   "metadata": {},
   "outputs": [],
   "source": []
  }
 ],
 "metadata": {
  "kernelspec": {
   "display_name": "Python [conda env:pythondata] *",
   "language": "python",
   "name": "conda-env-pythondata-py"
  },
  "language_info": {
   "codemirror_mode": {
    "name": "ipython",
    "version": 3
   },
   "file_extension": ".py",
   "mimetype": "text/x-python",
   "name": "python",
   "nbconvert_exporter": "python",
   "pygments_lexer": "ipython3",
   "version": "3.7.13"
  }
 },
 "nbformat": 4,
 "nbformat_minor": 5
}
